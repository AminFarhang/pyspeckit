{
 "cells": [
  {
   "cell_type": "markdown",
   "metadata": {},
   "source": [
    "## Notes on the Ammonia model ##"
   ]
  },
  {
   "cell_type": "markdown",
   "metadata": {},
   "source": [
    "Exact equation from the [source code](https://github.com/pyspeckit/pyspeckit/blob/master/pyspeckit/spectrum/models/ammonia.py#L210):\n",
    "\n",
    "            population_upperstate = lin_ntot * orthoparafrac * partition/(Z.sum())\n",
    "\n",
    "            tau_dict[linename] = (population_upperstate /\n",
    "                                  (1. + np.exp(-h*frq/(kb*tkin) ))*ccms**2 /\n",
    "                                  (8*np.pi*frq**2) * aval *\n",
    "                                  (1-np.exp(-h*frq/(kb*tex))) /\n",
    "                                  (width/ckms*frq*np.sqrt(2*np.pi)) )\n"
   ]
  },
  {
   "cell_type": "markdown",
   "metadata": {},
   "source": [
    "\\begin{equation}\n",
    "    \\tau = N_{tot} g_{opr} Z_{upper} \\frac{A_{ij} c^2}{8\\pi\\nu^2} \n",
    "    \\left(1-\\exp{ \\frac{-h \\nu}{k_B T_{ex}} } \\right)\n",
    "    \\left(1+\\exp{\\frac{-h \\nu}{k_B T_K}}\\right)\n",
    "    \\left((2\\pi)^{1/2} \\nu \\sigma_\\nu / c\\right)^{-1}\n",
    "\\end{equation}"
   ]
  },
  {
   "cell_type": "markdown",
   "metadata": {},
   "source": [
    "Equation 16 from Rosolowsky et al 2008:\n",
    "\n",
    "$$N(1,1) = \\frac{8 \\pi k \\nu_0^2}{h c^3} \\frac{1}{A_{1,1}} \\sqrt{2\\pi}\\sigma_\\nu (T_{ex}-T_{bg})\\tau$$"
   ]
  },
  {
   "cell_type": "markdown",
   "metadata": {},
   "source": [
    "Rearranges to:\n",
    "\n",
    "$$\\tau = N(1,1) \\frac{h c^3}{8\\pi k \\nu_0^2} A_{1,1} \\frac{1}{\\sqrt{2 \\pi} \\sigma_\\nu} \\left(T_{ex}-T_{bg})\\right)^{-1}$$"
   ]
  },
  {
   "cell_type": "markdown",
   "metadata": {},
   "source": [
    "Equation A4 of Friesen et al 2009:\n",
    "\n",
    "$$N(1,1) = \\frac{8\\pi\\nu^2}{c^2} \\frac{g_1}{g_2} \\frac{1}{A_{1,1}} \\frac{1+\\exp\\left(-h\\nu_0/k_B T_{ex}\\right)}{1-\\exp\\left(-h \\nu_0/k_B T_{ex}\\right)} \\int \\tau(\\nu) d\\nu$$"
   ]
  },
  {
   "cell_type": "markdown",
   "metadata": {},
   "source": [
    "Equation 98 of Mangum & Shirley 2015:\n",
    "\n",
    "\n",
    "$$N_{tot} = \\frac{3 h}{8 \\pi \\mu^2 R_i} \\frac{J_u(J_u+1)}{K^2} \n",
    "\\frac{Q_{rot}}{g_J g_K g_I} \\frac{\\exp{E_u/k_B T_{ex}}}{\\exp{h \\nu/k_B T_{ex}} - 1} \n",
    "\\left[\\frac{\\int T_R dv}{f\\left(J_\\nu(T_{ex})-J_\\nu{T_B}\\right) }\\right]$$"
   ]
  },
  {
   "cell_type": "markdown",
   "metadata": {},
   "source": [
    "## From Scratch ##"
   ]
  },
  {
   "cell_type": "markdown",
   "metadata": {},
   "source": [
    "$$\\tau_\\nu = \\int \\alpha_\\nu ds$$\n",
    "$$\\alpha_\\nu = \\frac{c^2}{8\\pi\\nu_0^2} \\frac{g_u}{g_l} n_l A_{ul} \\left(1-\\frac{g_l n_u}{g_u n_l}\\right) \\phi_\\nu$$"
   ]
  },
  {
   "cell_type": "markdown",
   "metadata": {},
   "source": [
    "Excitation temperature:\n",
    "$$T_{ex} \\equiv \\frac{h\\nu_0/k_b}{\\ln \\frac{n_l g_u}{n_u g_l} } $$\n",
    "\n",
    "$\\nu_0$ = rest frequency of the line\n",
    "\n",
    "Rearranges to:\n",
    "$$ \\frac{n_l g_u}{n_u g_l} = \\exp\\left(\\frac{h \\nu_0}{k_B T_{ex}}\\right)$$"
   ]
  },
  {
   "cell_type": "markdown",
   "metadata": {},
   "source": [
    "Boltzman  distribution:\n",
    "$$ \\frac{n_u}{n_l} = \\frac{g_u}{g_l} \\exp\\left(\\frac{-h \\nu_0}{k_B T}\\right)$$\n",
    "where T is a thermal equilibrium temperature"
   ]
  },
  {
   "cell_type": "markdown",
   "metadata": {},
   "source": [
    "Rearranges to:\n",
    "$$ 1-\\frac{n_u g_l}{n_l g_u} = 1-\\exp\\left(\\frac{-h \\nu_0}{k_B T}\\right)$$\n"
   ]
  },
  {
   "cell_type": "markdown",
   "metadata": {},
   "source": [
    "Column Density \n",
    "$$N_u \\equiv \\int n_u ds$$\n",
    "$$N_l \\equiv \\int n_l ds$$"
   ]
  },
  {
   "cell_type": "markdown",
   "metadata": {},
   "source": [
    "Starting to substitute previous equations into each other:\n",
    "\n",
    "$$\\tau_\\nu d\\nu= \\alpha_\\nu d\\nu = \\frac{c^2}{8\\pi\\nu_0^2} \\frac{g_u}{g_l} n_l A_{ul} \\left(1-\\frac{g_l n_u}{g_u n_l}\\right) \\phi_\\nu d\\nu$$\n",
    "\n",
    "$$\\frac{g_u}{g_l}N_l = N_u\\exp\\left(\\frac{h \\nu_0}{k_B T_{ex}}\\right)$$"
   ]
  },
  {
   "cell_type": "markdown",
   "metadata": {},
   "source": [
    "First substitution is the Boltzmann distribution, with $T_{ex}$ for T\n",
    "$$\\int \\tau_\\nu d\\nu = \\int \\frac{c^2}{8\\pi\\nu_0^2} \\frac{g_u}{g_l} n_l A_{ul} \\left[  1-\\exp\\left(\\frac{-h \\nu_0}{k_B T_{ex}}\\right) \\right] \\phi_\\nu d\\nu $$"
   ]
  },
  {
   "cell_type": "markdown",
   "metadata": {},
   "source": [
    "Second is the $N_l$ - $N_u$ relation:\n",
    "$$\\int \\tau_\\nu d\\nu = \\frac{c^2}{8\\pi\\nu_0^2}  A_{ul} N_u\\left[\\exp\\left(\\frac{h \\nu_0}{k_B T_{ex}}\\right)\\right] \\left[  1-\\exp\\left(\\frac{-h \\nu_0}{k_B T}\\right) \\right] \\int \\phi_\\nu d\\nu $$"
   ]
  },
  {
   "cell_type": "markdown",
   "metadata": {},
   "source": [
    "Then some simplification:\n",
    "$$\\int \\tau_\\nu d\\nu = \\frac{c^2}{8\\pi\\nu_0^2}  A_{ul} N_u \\left[  \\exp\\left(\\frac{h \\nu_0}{k_B T}\\right) - 1 \\right] \\int \\phi_\\nu d\\nu $$"
   ]
  },
  {
   "cell_type": "markdown",
   "metadata": {},
   "source": [
    "$$A_{ul} = \\frac{64\\pi^4\\nu_0^3}{3 h c^3} \\left|\\mu_{lu}\\right|^2$$"
   ]
  },
  {
   "cell_type": "markdown",
   "metadata": {},
   "source": [
    "Becomes, via some manipulation, equation 29 of Mangum & Shirley 2015:\n",
    "$$N_u = \\frac{3 h c}{8\\pi^3 \\nu \\left|\\mu_{lu}\\right|^2} \\left[\\exp\\left(\\frac{h\\nu}{k_B T_{ex}}\\right) -1\\right]^{-1} \\int \\tau_\\nu d\\nu$$\n",
    "where I have used $T_{ex}$ instead of $T$ here because that is one of the substitutions invoked (quietly) in their derivation.  There is some sleight-of-hand regarding assuming $N_l = n_l$ that essentially assumes $T_{ex}$ is constant along the line of sight, but that is fine.\n",
    "\n",
    "(Equation 30 is the same as this one, but with $dv$ instead of $d\\nu$ units)"
   ]
  },
  {
   "cell_type": "markdown",
   "metadata": {},
   "source": [
    "Solve for tau again (because that's what's implemented in the code):\n",
    "\n",
    "$$\\mathrm{\"tau\"} = \\int \\tau_\\nu d\\nu = N_u \\frac{\n",
    "c^2 A_{ul}}{8\\pi\\nu_0^2} \\left[\\exp\\left(\\frac{h\\nu}{k_B T_{ex}}\\right) -1\\right] $$"
   ]
  },
  {
   "cell_type": "markdown",
   "metadata": {},
   "source": [
    "The key difference from Erik's derivation is that this is $N_u$, but he has defined $N_{(1,1)}= N_u + N_l$."
   ]
  },
  {
   "cell_type": "markdown",
   "metadata": {},
   "source": [
    "So, we get $N_l$ the same way as above:\n",
    "$$N_l = \\frac{8\\pi\\nu_0^2}{c^2} \\frac{g_l}{g_u} A_{ul}^{-1} \\left[  1-\\exp\\left(\\frac{-h \\nu_0}{k_B T_{ex}}\\right) \\right]^{-1} \\int \\tau d\\nu$$"
   ]
  },
  {
   "cell_type": "markdown",
   "metadata": {},
   "source": [
    "$$N_l = \\frac{3 h c}{8 \\pi^3 \\nu \\left|\\mu_{lu}\\right|^2} \\frac{g_l}{g_u}  \\left[  1-\\exp\\left(\\frac{-h \\nu_0}{k_B T_{ex}}\\right) \\right]^{-1} \\int \\tau d\\nu$$"
   ]
  },
  {
   "cell_type": "markdown",
   "metadata": {},
   "source": [
    "Added together:\n",
    "$$N_u + N_l = \\frac{3 h c}{8 \\pi^3 \\nu \\left|\\mu_{lu}\\right|^2} \\frac{\\frac{g_l}{g_u}  +\\exp\\left(\\frac{-h \\nu_0}{k_B T_{ex}}\\right)}{1-\\exp\\left(\\frac{-h \\nu_0}{k_B T_{ex}}\\right)} \\int \\tau d\\nu$$"
   ]
  },
  {
   "cell_type": "markdown",
   "metadata": {},
   "source": [
    "We can solve that back for tau, which is what Erik has done:\n",
    "\n",
    "$$\\int \\tau d\\nu = (N_u + N_l) \\frac{8 \\pi^3 \\nu \\left|\\mu_{lu}\\right|^2}{3 h c} \\frac{1-\\exp\\left(\\frac{-h \\nu_0}{k_B T_{ex}}\\right)} {\\frac{g_l}{g_u}  +\\exp\\left(\\frac{-h \\nu_0}{k_B T_{ex}}\\right)} $$\n",
    "\n",
    "$$=(N_u + N_l) \\frac{g_u}{g_l}\\frac{8 \\pi^3 \\nu \\left|\\mu_{lu}\\right|^2}{3 h c} \\frac{1-\\exp\\left(\\frac{-h \\nu_0}{k_B T_{ex}}\\right)} {1  +\\frac{g_u}{g_l}\\exp\\left(\\frac{-h \\nu_0}{k_B T_{ex}}\\right)} $$"
   ]
  },
  {
   "cell_type": "markdown",
   "metadata": {},
   "source": [
    "$$=(N_u + N_l) \\frac{g_u}{g_l}\\frac{A_{ul}c^2}{8\\pi\\nu_0^2} \\frac{1-\\exp\\left(\\frac{-h \\nu_0}{k_B T_{ex}}\\right)} {1  +\\frac{g_u}{g_l}\\exp\\left(\\frac{-h \\nu_0}{k_B T_{ex}}\\right)} $$"
   ]
  },
  {
   "cell_type": "markdown",
   "metadata": {},
   "source": [
    "now identical to Erik's equation."
   ]
  },
  {
   "cell_type": "markdown",
   "metadata": {},
   "source": [
    "This is actually a problem, because $N_u$ is related to $N_{tot}$ via the partition function, but there is some double-counting going on if we try to relate $N_{(1,1)}$ to $N_{tot}$ with the same equation."
   ]
  },
  {
   "cell_type": "markdown",
   "metadata": {},
   "source": [
    "So, to reformulate the equations in pyspeckit using the appropriate values, we want to use both the partition function (calculated using $T_{kin}$) and $N_u$."
   ]
  },
  {
   "cell_type": "markdown",
   "metadata": {},
   "source": [
    "Eqn 31:\n",
    "    \n",
    "\n",
    "$$N_u = N_{tot} \\frac{g_u}{Q_{rot}} \\exp\\left(\\frac{-E_u}{k_B T_{kin}}\\right)$$"
   ]
  },
  {
   "cell_type": "markdown",
   "metadata": {},
   "source": [
    "is implemented correctly in pyspeckit:\n",
    "\n",
    "    population_upperstate = lin_ntot * orthoparafrac * partition/(Z.sum())\n",
    "\n",
    "where ``partition`` is \n",
    "\n",
    "$$Z_i(\\mathrm{para}) = (2J + 1) \\exp\\left[ \\frac{ -h (B_0 J (J+1) + (C_0-B_0)J^2)}{k_B T_{kin}}\\right]$$\n",
    "\n",
    "$$Z_i(\\mathrm{ortho}) = 2(2J + 1) \\exp\\left[ \\frac{ -h (B_0 J (J+1) + (C_0-B_0)J^2)}{k_B T_{kin}}\\right]$$\n",
    "\n",
    "\n",
    "...so I'm assuming (haven't checked) that $E_u = h (B_0 J (J+1) + (C_0-B_0)J^2)$"
   ]
  },
  {
   "cell_type": "markdown",
   "metadata": {},
   "source": [
    "Note that the leading \"2\" above cancels out in the Z/sum(Z), so it doesn't matter if it's right or not.  I suspect, though, that the 2 belongs in front of both the para and ortho states, but it should be excluded for the J=0 case."
   ]
  },
  {
   "cell_type": "markdown",
   "metadata": {},
   "source": [
    "(Erik's diff here)"
   ]
  },
  {
   "cell_type": "markdown",
   "metadata": {},
   "source": [
    "EWR: The above equation is problematic because it relates the total column density to the $(J,J)$ state which is the equivalent of the $N_{(1,1)}$ term.  In the notation above $N_{(1,1)} = N_u + N_l$, so to get this right, you need to consider the inversion transition splitting on top of the total energy of the state so that \n",
    "$$ E_u = h (B_0 J (J+1) + (C_0-B_0)J^2) + \\Delta E_{\\mathrm{inv}}, g_u = 1 $$ \n",
    "and \n",
    "$$ E_l = h (B_0 J (J+1) + (C_0-B_0)J^2) - \\Delta E_{\\mathrm{inv}}, g_l = 1 $$ \n",
    "or, since the splitting is small compared to the rotational energy (1 K compared to > 20 K), then\n",
    "\n",
    "$$Z_J \\approx 2 (2J + 1) \\exp\\left[ \\frac{ -h (B_0 J (J+1) + (C_0-B_0)J^2)}{k_B T_{\\mathrm{rot}}}\\right]$$\n",
    "\n",
    "where the leading 2 accounts for the internal inversion states.  Since this 2 appears in all the terms, it cancels out in the sum.  Note that I have also changed the $T_{\\mathrm{kin}}$ to $T_{\\mathrm{rot}}$ since these two aren't the same and it is the latter which establishes the level populations.\n",
    "\n",
    "Returning to the above, I would then suggest \n",
    "\n",
    "$$N_{(J,J)} = N_{tot} \\frac{Z_J}{\\sum_j Z_j} $$"
   ]
  },
  {
   "cell_type": "markdown",
   "metadata": {},
   "source": [
    "Some numerical checks: How bad was the use of Tkin instead of Tex in the $\\tau$ equation?"
   ]
  },
  {
   "cell_type": "markdown",
   "metadata": {},
   "source": [
    "$$(N_u + N_l) \\frac{g_u}{g_l}\\frac{A_{ul}c^2}{8\\pi\\nu_0^2} \\frac{1-\\exp\\left(\\frac{-h \\nu_0}{k_B T_{ex}}\\right)} {1  +\\frac{g_u}{g_l}\\exp\\left(\\frac{-h \\nu_0}{k_B T_{ex}}\\right)} $$"
   ]
  },
  {
   "cell_type": "code",
   "execution_count": 1,
   "metadata": {
    "collapsed": true
   },
   "outputs": [],
   "source": [
    "from astropy import units as u\n",
    "from astropy import constants\n",
    "freq = 23*u.GHz\n",
    "def tau_wrong(tkin, tex):\n",
    "    return (1-np.exp(-constants.h * freq/(constants.k_B*tkin)))/(1+np.exp(-constants.h * freq/(constants.k_B*tex)))\n",
    "def tau_right(tex):\n",
    "    return (1-np.exp(-constants.h * freq/(constants.k_B*tex)))/(1+np.exp(-constants.h * freq/(constants.k_B*tex)))"
   ]
  },
  {
   "cell_type": "code",
   "execution_count": 2,
   "metadata": {
    "collapsed": true
   },
   "outputs": [],
   "source": [
    "tkin = np.linspace(5,40,101)*u.K\n",
    "tex = np.linspace(5,40,100)*u.K"
   ]
  },
  {
   "cell_type": "code",
   "execution_count": 3,
   "metadata": {
    "collapsed": true
   },
   "outputs": [],
   "source": [
    "grid = np.array([[tau_wrong(tk,tx)/tau_right(tx) for tx in tex] for tk in tkin])"
   ]
  },
  {
   "cell_type": "code",
   "execution_count": 4,
   "metadata": {
    "collapsed": true
   },
   "outputs": [],
   "source": [
    "%matplotlib inline\n",
    "import pylab as pl"
   ]
  },
  {
   "cell_type": "code",
   "execution_count": 5,
   "metadata": {
    "collapsed": false
   },
   "outputs": [
    {
     "data": {
      "text/plain": [
       "<matplotlib.contour.QuadContourSet instance at 0x107273c68>"
      ]
     },
     "execution_count": 5,
     "metadata": {},
     "output_type": "execute_result"
    },
    {
     "data": {
      "image/png": "[encoded data removed]",
      "text/plain": [
       "<matplotlib.figure.Figure at 0x106bd62d0>"
      ]
     },
     "metadata": {},
     "output_type": "display_data"
    }
   ],
   "source": [
    "pl.imshow(grid, cmap='hot', extent=[5,40,5,40])\n",
    "pl.xlabel(\"Tex\")\n",
    "pl.ylabel(\"Tkin\")\n",
    "pl.colorbar()\n",
    "pl.contour(tex, tkin, grid, levels=[0.75,1,1/0.75], colors=['w','w','k'])"
   ]
  },
  {
   "cell_type": "markdown",
   "metadata": {},
   "source": [
    "So the error could be 50%-700% over a somewhat reasonable range.  That's bad, and it affects the temperature estimates.  However, the effect on temperature estimates should be pretty small, since each line will be affected in the same way.  The biggest effect will be on the column density."
   ]
  },
  {
   "cell_type": "markdown",
   "metadata": {},
   "source": [
    "But, is this error at all balanced by the double-counting problem?\n",
    "\n",
    "Because we were using the partition function directly, it's not obvious.  I was assuming that we were using the equation with $N_u$ as the leader, but we were using $N_u+N_l$.  i.e., I was using this equation:\n",
    "\n",
    "$$\\int \\tau d\\nu =(N_u + N_l) \\frac{g_u}{g_l}\\frac{A_{ul}c^2}{8\\pi\\nu_0^2} \\frac{1-\\exp\\left(\\frac{-h \\nu_0}{k_B T_{ex}}\\right)} {1  +\\frac{g_u}{g_l}\\exp\\left(\\frac{-h \\nu_0}{k_B T_{ex}}\\right)} $$\n",
    "\n",
    "but with $N_u$ in place of $N_u + N_l$."
   ]
  },
  {
   "cell_type": "markdown",
   "metadata": {},
   "source": [
    "The magnitude of the error can therefore be estimated by computing $(N_u+N_l)/N_u = 1 + \\frac{N_l}{N_u}$."
   ]
  },
  {
   "cell_type": "markdown",
   "metadata": {},
   "source": [
    "We can use the Boltzmann distribution to compute this error, then:\n",
    "$$ \\frac{n_u}{n_l} = \\frac{g_u}{g_l}\\exp\\left(\\frac{-h \\nu_0}{k_B T}\\right)$$\n"
   ]
  },
  {
   "cell_type": "code",
   "execution_count": 6,
   "metadata": {
    "collapsed": true
   },
   "outputs": [],
   "source": [
    "def nunlnu_error(Tkin):\n",
    "    return 1+np.exp(-constants.h * freq / (constants.k_B * Tkin))"
   ]
  },
  {
   "cell_type": "code",
   "execution_count": 7,
   "metadata": {
    "collapsed": false
   },
   "outputs": [
    {
     "data": {
      "text/plain": [
       "[<matplotlib.lines.Line2D at 0x1073c6250>]"
      ]
     },
     "execution_count": 7,
     "metadata": {},
     "output_type": "execute_result"
    },
    {
     "data": {
      "image/png": "[encoded data removed]",
      "text/plain": [
       "<matplotlib.figure.Figure at 0x105f59c10>"
      ]
     },
     "metadata": {},
     "output_type": "display_data"
    }
   ],
   "source": [
    "pl.plot(tkin.value, nunlnu_error(tkin))"
   ]
  },
  {
   "cell_type": "markdown",
   "metadata": {},
   "source": [
    "So we were always off by a factor very close to 2.  The *relative* values of $\\tau$ should never have been affected by this issue."
   ]
  },
  {
   "cell_type": "markdown",
   "metadata": {},
   "source": [
    "It will be more work to determine exactly how much the T_K and column estimates were affected."
   ]
  },
  {
   "cell_type": "markdown",
   "metadata": {},
   "source": [
    "# New work in May 2016: T_{rot} #"
   ]
  },
  {
   "cell_type": "markdown",
   "metadata": {
    "collapsed": true
   },
   "source": [
    "Comparing Trot and Tkin.  If we start with the equation that governs level populations,\n",
    "\n",
    "$$N_u = N_{tot} \\frac{g_u}{Q_{rot}} \\exp\\left(\\frac{-E_u}{k_B T_{kin}}\\right)$$\n",
    "\n",
    "we get \n",
    "\n",
    "$$N_u / N_l = \\frac{g_u}{g_l} \\exp\\left(\\frac{-E_u}{k_B T_{kin}} + \\frac{E_l}{k_B T_{kin}}\\right)$$\n",
    "\n",
    "where we really mean $T_{rot}$ instead of $T_{kin}$ here as long as we're talking about just two levels.  This gives us a definition"
   ]
  },
  {
   "cell_type": "markdown",
   "metadata": {},
   "source": [
    "$$T_{rot} = \\left(\\frac{E_l-E_u}{k_B}\\right)\\left[\\ln\\left(\\frac{N_u g_l}{N_l g_u}\\right)\\right]^{-1}$$\n",
    "\n",
    "which is the rotational temperature for a two-level system... which is just a $T_{ex}$, but governing non-radiatively-coupled levels."
   ]
  },
  {
   "cell_type": "markdown",
   "metadata": {},
   "source": [
    "So, for example, if we want to know $T_{rot}$ for the 2-2 and 1-1 lines at $n=10^4$ and $T_{kin}=20$ K:"
   ]
  },
  {
   "cell_type": "code",
   "execution_count": 8,
   "metadata": {
    "collapsed": false
   },
   "outputs": [
    {
     "name": "stderr",
     "output_type": "stream",
     "text": [
      "WARNING: AstropyDeprecationWarning: Config parameter 'name_resolve_timeout' in section [coordinates.name_resolve] of the file '/Users/adam/.astropy/config/astropy.cfg' is deprecated. Use 'remote_timeout' in section [utils.data] instead. [astropy.config.configuration]\n",
      "WARNING:astropy:AstropyDeprecationWarning: Config parameter 'name_resolve_timeout' in section [coordinates.name_resolve] of the file '/Users/adam/.astropy/config/astropy.cfg' is deprecated. Use 'remote_timeout' in section [utils.data] instead.\n",
      "WARNING: AstropyDeprecationWarning: Config parameter 'remote_timeout' in section [utils.data] of the file '/Users/adam/.astropy/config/astropy.cfg' is given by more than one alias (astropy.utils.data.remote_timeout, coordinates.name_resolve.name_resolve_timeout). Using the first. [astropy.config.configuration]\n",
      "WARNING:astropy:AstropyDeprecationWarning: Config parameter 'remote_timeout' in section [utils.data] of the file '/Users/adam/.astropy/config/astropy.cfg' is given by more than one alias (astropy.utils.data.remote_timeout, coordinates.name_resolve.name_resolve_timeout). Using the first.\n",
      "/Users/adam/repos/pyradex/pyradex/core.py:852: RuntimeWarning: invalid value encountered in divide\n",
      "  frac_level_diff = level_diff/self.level_population\n"
     ]
    }
   ],
   "source": [
    "from pyradex import Radex\n",
    "from astropy import constants, units as u\n",
    "R = Radex(species='p-nh3', column=1e13, collider_densities={'pH2':1e4}, temperature=20)\n",
    "tbl = R(collider_densities={'ph2': 1e4}, temperature=20, column=1e13)"
   ]
  },
  {
   "cell_type": "code",
   "execution_count": 9,
   "metadata": {
    "collapsed": false
   },
   "outputs": [
    {
     "name": "stderr",
     "output_type": "stream",
     "text": [
      "WARNING: AstropyDeprecationWarning: Config parameter 'max_lines' in section [table.pprint] of the file '/Users/adam/.astropy/config/astropy.cfg' is deprecated. Use 'max_lines' at the top-level instead. [astropy.config.configuration]\n",
      "WARNING:astropy:AstropyDeprecationWarning: Config parameter 'max_lines' in section [table.pprint] of the file '/Users/adam/.astropy/config/astropy.cfg' is deprecated. Use 'max_lines' at the top-level instead.\n",
      "WARNING: AstropyDeprecationWarning: Config parameter 'max_width' in section [table.pprint] of the file '/Users/adam/.astropy/config/astropy.cfg' is deprecated. Use 'max_width' at the top-level instead. [astropy.config.configuration]\n",
      "WARNING:astropy:AstropyDeprecationWarning: Config parameter 'max_width' in section [table.pprint] of the file '/Users/adam/.astropy/config/astropy.cfg' is deprecated. Use 'max_width' at the top-level instead.\n"
     ]
    },
    {
     "data": {
      "text/html": [
       "&lt;Table length=2&gt;\n",
       "<table id=\"table4416475920\">\n",
       "<thead><tr><th>Tex</th><th>tau</th><th>frequency</th><th>upperstateenergy</th><th>upperlevel</th><th>lowerlevel</th><th>upperlevelpop</th><th>lowerlevelpop</th><th>brightness</th><th>T_B</th></tr></thead>\n",
       "<thead><tr><th>K</th><th></th><th>GHz</th><th>K</th><th></th><th></th><th></th><th></th><th>erg / (cm2 Hz s sr)</th><th>K</th></tr></thead>\n",
       "<thead><tr><th>float64</th><th>float64</th><th>float64</th><th>float64</th><th>str6</th><th>str6</th><th>float64</th><th>float64</th><th>float64</th><th>float64</th></tr></thead>\n",
       "<tr><td>6.78936052483</td><td>0.0929414309528</td><td>23.6944955</td><td>1.14</td><td>01_01_</td><td>01_01_</td><td>0.393279209876</td><td>0.464987835394</td><td>6.17629302965e-17</td><td>0.358064405386</td></tr>\n",
       "<tr><td>6.53340348878</td><td>0.0212672724409</td><td>23.7226333</td><td>42.32</td><td>02_02_</td><td>02_02_</td><td>0.064641582585</td><td>0.0769470693495</td><td>1.37491511187e-17</td><td>0.0795203502905</td></tr>\n",
       "</table>"
      ],
      "text/plain": [
       "<Table length=2>\n",
       "     Tex            tau       frequency  ...      brightness           T_B      \n",
       "      K                          GHz     ... erg / (cm2 Hz s sr)        K       \n",
       "   float64        float64      float64   ...       float64           float64    \n",
       "------------- --------------- ---------- ... ------------------- ---------------\n",
       "6.78936052483 0.0929414309528 23.6944955 ...   6.17629302965e-17  0.358064405386\n",
       "6.53340348878 0.0212672724409 23.7226333 ...   1.37491511187e-17 0.0795203502905"
      ]
     },
     "execution_count": 9,
     "metadata": {},
     "output_type": "execute_result"
    }
   ],
   "source": [
    "tbl[8:10]"
   ]
  },
  {
   "cell_type": "code",
   "execution_count": 10,
   "metadata": {
    "collapsed": false
   },
   "outputs": [],
   "source": [
    "# we're comparing the upper states since these are the ones that are emitting photons\n",
    "trot = (u.Quantity(tbl['upperstateenergy'][8]-tbl['upperstateenergy'][9], u.K) *\n",
    "        np.log((tbl['upperlevelpop'][9] * R.statistical_weight[8]) /\n",
    "               (tbl['upperlevelpop'][8] * R.statistical_weight[9]))**-1\n",
    "        )"
   ]
  },
  {
   "cell_type": "code",
   "execution_count": 11,
   "metadata": {
    "collapsed": false
   },
   "outputs": [
    {
     "data": {
      "text/latex": [
       "$22.806041 \\; \\mathrm{K}$"
      ],
      "text/plain": [
       "<Quantity 22.806041117736964 K>"
      ]
     },
     "execution_count": 11,
     "metadata": {},
     "output_type": "execute_result"
    }
   ],
   "source": [
    "trot"
   ]
  },
  {
   "cell_type": "code",
   "execution_count": 12,
   "metadata": {
    "collapsed": false
   },
   "outputs": [
    {
     "data": {
      "text/plain": [
       "6.6613820068044447"
      ]
     },
     "execution_count": 12,
     "metadata": {},
     "output_type": "execute_result"
    }
   ],
   "source": [
    "tbl['Tex'][8:10].mean()"
   ]
  },
  {
   "cell_type": "markdown",
   "metadata": {},
   "source": [
    "## Pause here ##\n",
    "\n",
    "$T_{rot} = 60$ K for $T_{kin}=25$ K?  That doesn't seem right.  Is it possible RADEX is doing something funny with level populations?\n",
    "\n",
    "# ERIK I SOLVED IT #\n",
    "I had left out the $^{-1}$ in the code.  Oops!"
   ]
  },
  {
   "cell_type": "code",
   "execution_count": 13,
   "metadata": {
    "collapsed": false
   },
   "outputs": [
    {
     "name": "stdout",
     "output_type": "stream",
     "text": [
      "delta-T for 1-1_upper - 1-1_lower: -1.13715649924 K\n",
      "Excitation temperature computed is 6.78934149821 K and should be 6.78936052483\n"
     ]
    }
   ],
   "source": [
    "dT_oneone = -(constants.h * u.Quantity(tbl['frequency'][8], u.GHz)/constants.k_B).to(u.K)\n",
    "print(\"delta-T for 1-1_upper - 1-1_lower: {0}\".format(dT_oneone))\n",
    "tex = (dT_oneone *\n",
    "        np.log((tbl['upperlevelpop'][8] * R.statistical_weight[8]) /\n",
    "               (tbl['lowerlevelpop'][8] * R.statistical_weight[8]))**-1\n",
    "        )\n",
    "print(\"Excitation temperature computed is {0} and should be {1}\".format(tex.to(u.K), tbl['Tex'][8]))"
   ]
  },
  {
   "cell_type": "markdown",
   "metadata": {},
   "source": [
    "## Moving on: comparison to Swift et al 2005 ##"
   ]
  },
  {
   "cell_type": "markdown",
   "metadata": {},
   "source": [
    "Swift et al 2005 eqn A6\n",
    "\n",
    "$$T_R = T_K \\left[ 1 + \\frac{T_K}{T_0} \\ln \\left[1+0.6\\exp\\left( -15.7/T_K \\right)\\right] \\right]^{-1}$$\n",
    "\n",
    "where $T_0=-41.18$ K"
   ]
  },
  {
   "cell_type": "code",
   "execution_count": 14,
   "metadata": {
    "collapsed": false
   },
   "outputs": [
    {
     "data": {
      "text/plain": [
       "-41.18"
      ]
     },
     "execution_count": 14,
     "metadata": {},
     "output_type": "execute_result"
    }
   ],
   "source": [
    "T0=tbl['upperstateenergy'][8]-tbl['upperstateenergy'][9]\n",
    "T0"
   ]
  },
  {
   "cell_type": "code",
   "execution_count": 15,
   "metadata": {
    "collapsed": true
   },
   "outputs": [],
   "source": [
    "def tr_swift(tk, T0=T0):\n",
    "    return tk*(1+tk/T0 * np.log(1+0.6*np.exp(-15.7/tk)))**-1"
   ]
  },
  {
   "cell_type": "code",
   "execution_count": 16,
   "metadata": {
    "collapsed": false
   },
   "outputs": [
    {
     "data": {
      "text/plain": [
       "22.662533151044173"
      ]
     },
     "execution_count": 16,
     "metadata": {},
     "output_type": "execute_result"
    }
   ],
   "source": [
    "tr_swift(20, T0=-41.18)"
   ]
  },
  {
   "cell_type": "code",
   "execution_count": 17,
   "metadata": {
    "collapsed": false
   },
   "outputs": [
    {
     "data": {
      "text/plain": [
       "17.897313974001626"
      ]
     },
     "execution_count": 17,
     "metadata": {},
     "output_type": "execute_result"
    }
   ],
   "source": [
    "tr_swift(20, T0=41.18)"
   ]
  },
  {
   "cell_type": "code",
   "execution_count": 18,
   "metadata": {
    "collapsed": false
   },
   "outputs": [
    {
     "data": {
      "text/plain": [
       "17.911834634970091"
      ]
     },
     "execution_count": 18,
     "metadata": {},
     "output_type": "execute_result"
    }
   ],
   "source": [
    "tr_swift(20, T0=41.5)"
   ]
  },
  {
   "cell_type": "code",
   "execution_count": 19,
   "metadata": {
    "collapsed": true
   },
   "outputs": [],
   "source": [
    "def trot_radex(column=1e13, density=1e4, tkin=20):\n",
    "    tbl = R(collider_densities={'ph2': density}, temperature=tkin, column=column)\n",
    "    trot = (u.Quantity(tbl['upperstateenergy'][8]-tbl['upperstateenergy'][9], u.K) *\n",
    "        np.log((tbl['upperlevelpop'][9] * R.statistical_weight[8]) /\n",
    "               (tbl['upperlevelpop'][8] * R.statistical_weight[9]))**-1\n",
    "        )\n",
    "    return trot"
   ]
  },
  {
   "cell_type": "code",
   "execution_count": 20,
   "metadata": {
    "collapsed": false
   },
   "outputs": [
    {
     "data": {
      "text/latex": [
       "$22.806041 \\; \\mathrm{K}$"
      ],
      "text/plain": [
       "<Quantity 22.806041117736964 K>"
      ]
     },
     "execution_count": 20,
     "metadata": {},
     "output_type": "execute_result"
    }
   ],
   "source": [
    "trot_radex(tkin=20)"
   ]
  },
  {
   "cell_type": "code",
   "execution_count": 21,
   "metadata": {
    "collapsed": true
   },
   "outputs": [],
   "source": [
    "def tex_radex(column=1e13, density=1e4, tkin=20, lineno=8):\n",
    "    \"\"\" used in tests below \"\"\"\n",
    "    tbl = R(collider_densities={'ph2': density}, temperature=tkin, column=column)\n",
    "    return tbl[lineno]['Tex']"
   ]
  },
  {
   "cell_type": "code",
   "execution_count": 22,
   "metadata": {
    "collapsed": false
   },
   "outputs": [],
   "source": [
    "%matplotlib inline\n",
    "import pylab as pl"
   ]
  },
  {
   "cell_type": "code",
   "execution_count": 23,
   "metadata": {
    "collapsed": false
   },
   "outputs": [
    {
     "data": {
      "text/plain": [
       "<matplotlib.text.Text at 0x1639001d0>"
      ]
     },
     "execution_count": 23,
     "metadata": {},
     "output_type": "execute_result"
    },
    {
     "data": {
      "image/png": "[encoded data removed]",
      "text/plain": [
       "<matplotlib.figure.Figure at 0x101fc3e50>"
      ]
     },
     "metadata": {},
     "output_type": "display_data"
    }
   ],
   "source": [
    "cols = np.logspace(12,15)\n",
    "trots = [trot_radex(column=c).to(u.K).value for c in cols]\n",
    "pl.semilogx(cols, trots)\n",
    "pl.hlines(tr_swift(20), cols.min(), cols.max(), color='k')\n",
    "pl.xlabel(\"Column\")\n",
    "pl.ylabel(\"$T_{rot} (2-2)/(1-1)$\")"
   ]
  },
  {
   "cell_type": "code",
   "execution_count": 24,
   "metadata": {
    "collapsed": false
   },
   "outputs": [
    {
     "data": {
      "text/plain": [
       "<matplotlib.text.Text at 0x108207a10>"
      ]
     },
     "execution_count": 24,
     "metadata": {},
     "output_type": "execute_result"
    },
    {
     "data": {
      "image/png": "[encoded data removed]",
      "text/plain": [
       "<matplotlib.figure.Figure at 0x163c87050>"
      ]
     },
     "metadata": {},
     "output_type": "display_data"
    }
   ],
   "source": [
    "densities = np.logspace(3,9)\n",
    "trots = [trot_radex(density=n).to(u.K).value for n in densities]\n",
    "pl.semilogx(densities, trots)\n",
    "pl.hlines(tr_swift(20), densities.min(), densities.max(), color='k')\n",
    "pl.xlabel(\"Volume Density\")\n",
    "pl.ylabel(\"$T_{rot} (2-2)/(1-1)$\")"
   ]
  },
  {
   "cell_type": "code",
   "execution_count": 25,
   "metadata": {
    "collapsed": false
   },
   "outputs": [
    {
     "name": "stderr",
     "output_type": "stream",
     "text": [
      "/Users/adam/repos/pyradex/pyradex/core.py:933: RuntimeWarning: overflow encountered in exp\n",
      "  bnutex = thc*xt/(np.exp(earg)-1.0)\n"
     ]
    },
    {
     "data": {
      "text/plain": [
       "<matplotlib.text.Text at 0x163928710>"
      ]
     },
     "execution_count": 25,
     "metadata": {},
     "output_type": "execute_result"
    },
    {
     "data": {
      "image/png": "[encoded data removed]",
      "text/plain": [
       "<matplotlib.figure.Figure at 0x163dc9f90>"
      ]
     },
     "metadata": {},
     "output_type": "display_data"
    }
   ],
   "source": [
    "temperatures = np.linspace(5,40)\n",
    "trots = [trot_radex(tkin=t).to(u.K).value for t in temperatures]\n",
    "pl.plot(temperatures, trots)\n",
    "pl.plot(temperatures, tr_swift(temperatures, T0=-41.18), color='k')\n",
    "pl.plot(temperatures, tr_swift(temperatures, T0=41.18), color='r')\n",
    "pl.xlabel(\"Temperatures\")\n",
    "pl.ylabel(\"$T_{rot} (2-2)/(1-1)$\")"
   ]
  },
  {
   "cell_type": "markdown",
   "metadata": {},
   "source": [
    "## Tests of cold_ammonia reproducing pyspeckit ammonia spectra ##"
   ]
  },
  {
   "cell_type": "code",
   "execution_count": 26,
   "metadata": {
    "collapsed": false
   },
   "outputs": [],
   "source": [
    "from pyspeckit.spectrum.models.tests import test_ammonia\n",
    "from pyspeckit.spectrum.models import ammonia"
   ]
  },
  {
   "cell_type": "markdown",
   "metadata": {},
   "source": [
    "### Test 1: Use a constant excitatino temperature for all lines"
   ]
  },
  {
   "cell_type": "code",
   "execution_count": 27,
   "metadata": {
    "collapsed": false
   },
   "outputs": [
    {
     "name": "stdout",
     "output_type": "stream",
     "text": [
      "22.8060411177 K\n"
     ]
    }
   ],
   "source": [
    "tkin = 20*u.K\n",
    "trot = trot_radex(tkin=tkin)\n",
    "print(trot)"
   ]
  },
  {
   "cell_type": "code",
   "execution_count": 28,
   "metadata": {
    "collapsed": false
   },
   "outputs": [
    {
     "name": "stderr",
     "output_type": "stream",
     "text": [
      "WARNING: No header given.  Creating an empty one.\n",
      "INFO:astropy:Creating spectra\n",
      "INFO:astropy:Concatenating data\n",
      "INFO:astropy:Left region selection unchanged.  xminpix, xmaxpix: 0,753\n"
     ]
    },
    {
     "name": "stdout",
     "output_type": "stream",
     "text": [
      "INFO: Creating spectra [pyspeckit.spectrum.classes]\n",
      "INFO: Concatenating data [pyspeckit.spectrum.classes]\n",
      "INFO: Left region selection unchanged.  xminpix, xmaxpix: 0,753 [pyspeckit.spectrum.interactive]\n",
      "For Tkin=20.0 K -> Trot=22.8060411177 K, pyspeckit's cold_ammonia fitter got:\n",
      "Param #0        tkin0 =      20.1202 +/-         64.8354   Range:[2.7315,inf)\n",
      "Param #1         tex0 =      6.66001 +/-         2721.67   Range:[2.7315,inf)\n",
      "Param #2        ntot0 =           13 +/-         128.118   Range:    [5,25]\n",
      "Param #3       width0 =          0.5 +/-         2.66707   Range:   [0,inf)\n",
      "Param #4      xoff_v0 =  2.54971e-05 +/-               0 \n",
      "Param #5      fortho0 =            0 (fixed)  Range:     [0,1]\n"
     ]
    },
    {
     "name": "stderr",
     "output_type": "stream",
     "text": [
      "Config parameter 'enabled_record_valued_keyword_cards' in section [io.fits] of the file '/Users/adam/.astropy/config/astropy.cfg' is deprecated. Use 'enable_record_valued_keyword_cards' in section [io.fits] instead.\n"
     ]
    }
   ],
   "source": [
    "spc = test_ammonia.make_synthspec(lte=False, tkin=None, tex=6.66, trot=trot.value)\n",
    "spc.specfit.Registry.add_fitter('cold_ammonia',ammonia.cold_ammonia_model(),6)\n",
    "spc.specfit(fittype='cold_ammonia', guesses=[23, 5, 13.1, 1, 0.5, 0],\n",
    "            fixed=[False,False,False,False,False,True])\n",
    "\n",
    "print(\"For Tkin={1} -> Trot={2}, pyspeckit's cold_ammonia fitter got:\\n{0}\".format(spc.specfit.parinfo, tkin, trot))"
   ]
  },
  {
   "cell_type": "code",
   "execution_count": 29,
   "metadata": {
    "collapsed": false
   },
   "outputs": [
    {
     "name": "stderr",
     "output_type": "stream",
     "text": [
      "INFO:astropy:Left region selection unchanged.  xminpix, xmaxpix: 0,753\n"
     ]
    },
    {
     "name": "stdout",
     "output_type": "stream",
     "text": [
      "INFO: Left region selection unchanged.  xminpix, xmaxpix: 0,753 [pyspeckit.spectrum.interactive]\n",
      "The best fit cold ammonia temperature is Param #0        tkin0 =      20.1202 +/-     2.88978e-05   Range:[2.7315,inf) for an input T_rot=22.8060411177 K\n"
     ]
    }
   ],
   "source": [
    "spc.specfit(fittype='cold_ammonia', guesses=[22.80, 6.6, 13.1, 1, 0.5, 0],\n",
    "            fixed=[False,False,False,False,False,True])\n",
    "bestfit_coldammonia_temperature = spc.specfit.parinfo[0]\n",
    "print(\"The best fit cold ammonia temperature is {0} for an input T_rot={1}\".format(bestfit_coldammonia_temperature, trot))"
   ]
  },
  {
   "cell_type": "markdown",
   "metadata": {},
   "source": [
    "### Test 2: Use a different (& appropriate) tex for each level in the input model spectrum"
   ]
  },
  {
   "cell_type": "code",
   "execution_count": 30,
   "metadata": {
    "collapsed": false
   },
   "outputs": [
    {
     "name": "stdout",
     "output_type": "stream",
     "text": [
      "tex11=6.78936052483, tex22=6.53340348878 for tkin=20.0 K\n"
     ]
    }
   ],
   "source": [
    "tex11 = tex_radex(tkin=tkin, lineno=8)\n",
    "tex22 = tex_radex(tkin=tkin, lineno=9)\n",
    "print(\"tex11={0}, tex22={1} for tkin={2}\".format(tex11,tex22,tkin))"
   ]
  },
  {
   "cell_type": "code",
   "execution_count": 31,
   "metadata": {
    "collapsed": false
   },
   "outputs": [
    {
     "name": "stderr",
     "output_type": "stream",
     "text": [
      "INFO:astropy:Creating spectra\n",
      "INFO:astropy:Concatenating data\n",
      "INFO:astropy:Left region selection unchanged.  xminpix, xmaxpix: 0,502\n"
     ]
    },
    {
     "name": "stdout",
     "output_type": "stream",
     "text": [
      "INFO: Creating spectra [pyspeckit.spectrum.classes]\n",
      "INFO: Concatenating data [pyspeckit.spectrum.classes]\n",
      "INFO: Left region selection unchanged.  xminpix, xmaxpix: 0,502 [pyspeckit.spectrum.interactive]\n",
      "For Tkin=20.0 K -> Trot=22.8060411177 K, pyspeckit's cold_ammonia fitter got:\n",
      "Param #0        tkin0 =      110.942 +/-          82.299   Range:[2.7315,inf)\n",
      "Param #1         tex0 =      176.219 +/-     1.81068e+06   Range:[2.7315,inf)\n",
      "Param #2        ntot0 =           25 +/-               0   Range:    [5,25]\n",
      "Param #3       width0 =     0.503815 +/-         1.71976   Range:   [0,inf)\n",
      "Param #4      xoff_v0 =  9.64542e-06 +/-               0 \n",
      "Param #5      fortho0 =            0 (fixed)  Range:     [0,1]\n",
      "The best fit cold ammonia temperature is Param #0        tkin0 =      20.1202 +/-     2.88978e-05   Range:[2.7315,inf) for an input T_rot=22.8060411177 K\n"
     ]
    }
   ],
   "source": [
    "spc = test_ammonia.make_synthspec(lte=False, tkin=None, tex={'oneone':tex11, 'twotwo':tex22}, trot=trot.value,\n",
    "                                  lines=['oneone','twotwo'])\n",
    "spc.specfit.Registry.add_fitter('cold_ammonia',ammonia.cold_ammonia_model(),6)\n",
    "spc.specfit(fittype='cold_ammonia', guesses=[23, 5, 13.1, 1, 0.5, 0],\n",
    "            fixed=[False,False,False,False,False,True])\n",
    "\n",
    "print(\"For Tkin={1} -> Trot={2}, pyspeckit's cold_ammonia fitter got:\\n{0}\".format(spc.specfit.parinfo, tkin, trot))\n",
    "print(\"The best fit cold ammonia temperature is {0} for an input T_rot={1}\".format(bestfit_coldammonia_temperature, trot))"
   ]
  },
  {
   "cell_type": "markdown",
   "metadata": {},
   "source": [
    "### Test 3: compare cold_ammonia to \"normal\" ammonia model to see why they differ"
   ]
  },
  {
   "cell_type": "code",
   "execution_count": 32,
   "metadata": {
    "collapsed": true
   },
   "outputs": [],
   "source": [
    "from astropy import log"
   ]
  },
  {
   "cell_type": "code",
   "execution_count": 33,
   "metadata": {
    "collapsed": false
   },
   "outputs": [
    {
     "name": "stderr",
     "output_type": "stream",
     "text": [
      "INFO:astropy:Creating spectra\n",
      "INFO:astropy:Concatenating data\n"
     ]
    },
    {
     "name": "stdout",
     "output_type": "stream",
     "text": [
      "17.911834635 K\n",
      "tkin=20.0 K trot=22.8060411177 K tex11=6.78936052483 tex22=6.53340348878\n",
      "INFO: Creating spectra [pyspeckit.spectrum.classes]\n",
      "INFO: Concatenating data [pyspeckit.spectrum.classes]\n",
      "DEBUG"
     ]
    },
    {
     "name": "stderr",
     "output_type": "stream",
     "text": [
      "DEBUG:astropy:Cold ammonia turned T_K = 20.0 into T_rot = 22.6392934905\n",
      "WARNING: Assuming tex=trot [pyspeckit.spectrum.models.ammonia]\n",
      "WARNING:astropy:Assuming tex=trot\n",
      "DEBUG:astropy:Cold ammonia turned T_K = 20.0 into T_rot = 22.6392934905\n",
      "WARNING: Assuming tex=trot [pyspeckit.spectrum.models.ammonia]\n",
      "WARNING:astropy:Assuming tex=trot\n"
     ]
    },
    {
     "name": "stdout",
     "output_type": "stream",
     "text": [
      ": Cold ammonia turned T_K = 20.0 into T_rot = 22.6392934905 [pyspeckit.spectrum.models.ammonia]\n",
      "DEBUG: Cold ammonia turned T_K = 20.0 into T_rot = 22.6392934905 [pyspeckit.spectrum.models.ammonia]\n",
      "INFO"
     ]
    },
    {
     "name": "stderr",
     "output_type": "stream",
     "text": [
      "INFO:astropy:Creating spectra\n",
      "INFO:astropy:Concatenating data\n"
     ]
    },
    {
     "name": "stdout",
     "output_type": "stream",
     "text": [
      ": Creating spectra [pyspeckit.spectrum.classes]\n",
      "INFO: Concatenating data [pyspeckit.spectrum.classes]\n"
     ]
    }
   ],
   "source": [
    "log.setLevel('DEBUG')\n",
    "tkin = 20*u.K\n",
    "trot = trot_radex(tkin=tkin)\n",
    "dT0=41.5\n",
    "print(tkin * (1 + (tkin.value/dT0)*np.log(1 + 0.6*np.exp(-15.7/tkin.value)))**-1)\n",
    "print(\"tkin={0} trot={1} tex11={2} tex22={3}\".format(tkin, trot, tex11, tex22))\n",
    "\n",
    "spc = test_ammonia.make_synthspec(lte=False, tkin=None, tex={'oneone':tex11, 'twotwo':tex22}, trot=trot.value,\n",
    "                                  lines=['oneone','twotwo'])\n",
    "spc_cold = test_ammonia.make_synthspec_cold(tkin=tkin.value, lines=['oneone','twotwo'])"
   ]
  },
  {
   "cell_type": "code",
   "execution_count": 34,
   "metadata": {
    "collapsed": false
   },
   "outputs": [
    {
     "data": {
      "image/png": "[encoded data removed]",
      "text/plain": [
       "<matplotlib.figure.Figure at 0x167836f10>"
      ]
     },
     "metadata": {},
     "output_type": "display_data"
    }
   ],
   "source": [
    "spc[0].plotter()\n",
    "spc_cold[0].plotter(axis=spc[0].plotter.axis, clear=False, color='b')"
   ]
  },
  {
   "cell_type": "markdown",
   "metadata": {
    "collapsed": true
   },
   "source": [
    "## RADEX analysis: T_rot vs T_kin vs T_ex ##"
   ]
  },
  {
   "cell_type": "code",
   "execution_count": 35,
   "metadata": {
    "collapsed": false
   },
   "outputs": [
    {
     "data": {
      "text/plain": [
       "<matplotlib.text.Text at 0x167b1ab90>"
      ]
     },
     "execution_count": 35,
     "metadata": {},
     "output_type": "execute_result"
    },
    {
     "data": {
      "image/png": "[encoded data removed]",
      "text/plain": [
       "<matplotlib.figure.Figure at 0x163b7e690>"
      ]
     },
     "metadata": {},
     "output_type": "display_data"
    }
   ],
   "source": [
    "temperatures = np.linspace(5,40)\n",
    "trots = [trot_radex(tkin=t).to(u.K).value for t in temperatures]\n",
    "tex11s = np.array([tex_radex(tkin=t, lineno=8) for t in temperatures])\n",
    "tex22s = np.array([tex_radex(tkin=t, lineno=9) for t in temperatures])\n",
    "pl.plot(trots, tex11s)\n",
    "pl.plot(trots, tex22s)\n",
    "#pl.plot(tr_swift(temperatures), color='k')\n",
    "pl.ylabel(\"$T_{ex}$\")\n",
    "pl.xlabel(\"$T_{rot} (2-2)/(1-1)$\")"
   ]
  },
  {
   "cell_type": "code",
   "execution_count": 36,
   "metadata": {
    "collapsed": false
   },
   "outputs": [
    {
     "data": {
      "text/plain": [
       "<matplotlib.text.Text at 0x167591410>"
      ]
     },
     "execution_count": 36,
     "metadata": {},
     "output_type": "execute_result"
    },
    {
     "data": {
      "image/png": "[encoded data removed]",
      "text/plain": [
       "<matplotlib.figure.Figure at 0x1678dbd90>"
      ]
     },
     "metadata": {},
     "output_type": "display_data"
    }
   ],
   "source": [
    "temperatures = np.linspace(5,40)\n",
    "trots = [trot_radex(tkin=t).to(u.K).value for t in temperatures]\n",
    "tex11s = np.array([tex_radex(tkin=t, lineno=8) for t in temperatures])\n",
    "tex22s = np.array([tex_radex(tkin=t, lineno=9) for t in temperatures])\n",
    "pl.plot(trots, tex11s/tex22s)\n",
    "#pl.plot(tr_swift(temperatures), color='k')\n",
    "pl.ylabel(\"$T_{ex} (2-2)/(1-1)$\")\n",
    "pl.xlabel(\"$T_{rot} (2-2)/(1-1)$\")"
   ]
  },
  {
   "cell_type": "code",
   "execution_count": null,
   "metadata": {
    "collapsed": true
   },
   "outputs": [],
   "source": []
  }
 ],
 "metadata": {
  "kernelspec": {
   "display_name": "Python 2",
   "language": "python",
   "name": "python2"
  },
  "language_info": {
   "codemirror_mode": {
    "name": "ipython",
    "version": 2
   },
   "file_extension": ".py",
   "mimetype": "text/x-python",
   "name": "python",
   "nbconvert_exporter": "python",
   "pygments_lexer": "ipython2",
   "version": "2.7.11"
  }
 },
 "nbformat": 4,
 "nbformat_minor": 0
}
